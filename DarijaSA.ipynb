{
 "cells": [
  {
   "cell_type": "markdown",
   "id": "17ea195b",
   "metadata": {},
   "source": [
    "Remove stop words\n",
    "---\n"
   ]
  },
  {
   "cell_type": "code",
   "execution_count": 130,
   "id": "eeaee12c",
   "metadata": {},
   "outputs": [],
   "source": [
    "import nltk\n",
    "\n",
    "# nltk.download('stopwords')\n",
    "# nltk.download('punkt')\n",
    "# nltk.download('wordnet')\n",
    "from nltk.corpus import stopwords\n",
    "from nltk.tokenize import word_tokenize\n",
    "\n",
    "def remove_custom_arabic_stopwords(text):\n",
    "    # Liste des stopwords en arabe\n",
    "    arabic_stopwords = set(stopwords.words('arabic'))\n",
    "    # Mots à exclure\n",
    "    custom_stopwords = ['أقبل', 'إيه', 'بؤسا', 'بئس', 'لست', 'لستم', 'لستما', 'لستن', 'لسن', 'لسنا',\n",
    "                        'ليس', 'ليسا', 'ليست', 'ليستا', 'ليسوا', 'نعم', 'لا', 'أجل']\n",
    "\n",
    "    # Suppression des mots spécifiques des stopwords\n",
    "    arabic_stopwords = arabic_stopwords - set(custom_stopwords)\n",
    "    \n",
    "    custom_stopwords_to_add = ['اين','عد', 'بعد', 'لأن', 'مع', 'او', 'مني', 'بين', 'لي', 'لاكن',\n",
    "                                'بل', 'كل', 'ما', 'فينهو', 'الكل', 'لو', 'باش', 'بان', 'ودوك', 'حتى',\n",
    "                                'او', 'راه', 'وا',  'فهو', 'لي', 'أما', 'عنه', 'يا', 'اننا',\n",
    "                                'لينا', 'ثم', 'مشي', 'مش','الشئ', 'الى','انا','الى','الل','ان','وان','وان','الان']\n",
    "\n",
    "    # Ajout des mots spécifiques à l'ensemble des stopwords\n",
    "    arabic_stopwords.update(custom_stopwords_to_add)\n",
    "    \n",
    "    # Tokenisation\n",
    "    words = word_tokenize(text)\n",
    "\n",
    "    # Suppression des stopwords\n",
    "    filtered_words = [word for word in words if word.lower() not in arabic_stopwords]\n",
    "\n",
    "    # Reconstitution du texte\n",
    "    filtered_text = ' '.join(filtered_words)\n",
    "\n",
    "    return filtered_text"
   ]
  },
  {
   "cell_type": "markdown",
   "id": "833c4960",
   "metadata": {},
   "source": [
    "Clean data\n",
    "---"
   ]
  },
  {
   "cell_type": "code",
   "execution_count": 131,
   "id": "3ab954e1",
   "metadata": {},
   "outputs": [],
   "source": [
    "#supprimer les mots d'un seul caractere\n",
    "def remove_single_char_words(text):\n",
    "    # Utilise une expression régulière pour supprimer les mots d'un seul caractère\n",
    "    pattern = re.compile(r'\\b\\w\\b', re.UNICODE)\n",
    "    \n",
    "    # Remplace les occurrences par une chaîne vide\n",
    "    cleaned_text = pattern.sub('', text)\n",
    "    \n",
    "    return cleaned_text\n",
    "#remove hhhhh\n",
    "def remove_ha_sequences(text):\n",
    "    # Utilise une expression régulière pour trouver toutes les séquences de la lettre \"ه\"\n",
    "    pattern = re.compile(r'(هه)+', re.UNICODE)\n",
    "    # Remplace toutes les occurrences par une chaîne vide\n",
    "    cleaned_text = pattern.sub('', text)\n",
    "    \n",
    "    return cleaned_text\n",
    "#remove les article definit\n",
    "def remove_definite_article(word):\n",
    "    # Function to remove Arabic definite article \"ال\"\n",
    "    word = re.sub('^ال', '', word)\n",
    "    word = re.sub('^وال', '', word)\n",
    "    word = re.sub('^لل', '', word)\n",
    "    word = re.sub('^بال', '', word)\n",
    "    return word"
   ]
  },
  {
   "cell_type": "code",
   "execution_count": 132,
   "id": "ecdeb792",
   "metadata": {},
   "outputs": [],
   "source": [
    "import re\n",
    "import string\n",
    "import numpy as np\n",
    "def wordopt(text):\n",
    "    text = re.sub('\\[.*?\\]', '', text)\n",
    "    \n",
    "    text = re.sub('[^a-zA-Z0-9\\s\\u0600-\\u06FF]', ' ', text)\n",
    "    \n",
    "    text = re.sub('https?://\\S+|www\\.\\S+', '', text)\n",
    "    \n",
    "    text = re.sub('<.*?>+', '', text)\n",
    "    \n",
    "    arabic_punctuation = 'ء،؛؟«»'\n",
    "    text = re.sub('[%s%s]' % (re.escape(string.punctuation), re.escape(arabic_punctuation)), ' ', text)\n",
    "    \n",
    "    text = re.sub('\\n', '', text)\n",
    "    \n",
    "    text = re.sub('أ', 'ا', text)\n",
    "    \n",
    "    text = re.sub('\\w*\\d\\w*', '', text)\n",
    "    \n",
    "    text = re.sub(r'\\s+', ' ', text)\n",
    "    \n",
    "    text = remove_ha_sequences(text)\n",
    "    \n",
    "    text = re.sub(r'(.)\\1+', r'\\1\\1', text)\n",
    "    \n",
    "    text = remove_single_char_words(text)\n",
    "    \n",
    "    text = ' '.join([remove_definite_article(word) if len(word) > 4 else word for word in text.split()])\n",
    "    \n",
    "    text = remove_custom_arabic_stopwords(text)\n",
    "    \n",
    "    return text"
   ]
  },
  {
   "cell_type": "code",
   "execution_count": 133,
   "id": "c5a4bd6a",
   "metadata": {},
   "outputs": [
    {
     "name": "stdout",
     "output_type": "stream",
     "text": [
      "مدينة برشيد مراكز تلقيح مغلقة تتبع غاية محاسبة تلفزة مجرد صورة منمقة لواقع مغاي وبئيس تنسيقية وطنية مغاربة رافضين تلقيح إجباري ستنزل شارع\n"
     ]
    }
   ],
   "source": [
    "# Exemple d'utilisation\n",
    "texte_exemple = \"\"\"\n",
    "                  ? لي نفس الشئ في مدينة برشيد مراكز التلقيح مغلقة تتبع\n",
    "                   إلى غاية الاثنين اين المحاسبة،التلفزة \\nمجرد صورة منمقة ؟\n",
    "                    لواقع مغاي_وبئيس\n",
    "                    #التنسيقية_الوطنية_للمغاربة_الرافضين_للتلقيح_الإجباري_ستنزل_للشارع\n",
    "\n",
    "                    \"\"\"\n",
    "resultat = wordopt(texte_exemple)\n",
    "print(resultat)"
   ]
  },
  {
   "cell_type": "markdown",
   "id": "08391521",
   "metadata": {},
   "source": [
    "Getting data\n",
    "---"
   ]
  },
  {
   "cell_type": "code",
   "execution_count": 134,
   "id": "27671163",
   "metadata": {},
   "outputs": [],
   "source": [
    "import gensim\n",
    "import pandas as pd\n",
    "from gensim.utils import simple_preprocess"
   ]
  },
  {
   "cell_type": "code",
   "execution_count": 135,
   "id": "219c1c65",
   "metadata": {},
   "outputs": [
    {
     "data": {
      "image/png": "[encoded data removed]",
      "text/plain": [
       "<Figure size 640x480 with 1 Axes>"
      ]
     },
     "metadata": {},
     "output_type": "display_data"
    }
   ],
   "source": [
    "data = pd.read_csv(\"train.csv\",encoding='utf-8')\n",
    "\n",
    "import matplotlib.pyplot as plt\n",
    "classes = data['label']\n",
    "# Créer un histogramme\n",
    "plt.hist(classes, bins=len(set(classes)), alpha=0.7, color='blue', edgecolor='black')\n",
    "\n",
    "# Ajouter le nombre d'exemples au-dessus de chaque barre\n",
    "for i in range(len(set(classes))):\n",
    "    count = list(classes).count(i)  # Compter le nombre d'exemples dans chaque classe\n",
    "    plt.annotate(str(count), xy=(i, count), ha='center', va='bottom')\n",
    "\n",
    "# Ajouter des étiquettes\n",
    "plt.title('Répartition des classes dans la dataset')\n",
    "plt.xlabel('Classes')\n",
    "plt.ylabel('Nombre d\\'exemples')\n",
    "\n",
    "# Afficher le diagramme\n",
    "plt.show()"
   ]
  },
  {
   "cell_type": "markdown",
   "id": "96829dd2",
   "metadata": {},
   "source": [
    "preprocessing and tokenisation\n",
    "---"
   ]
  },
  {
   "cell_type": "code",
   "execution_count": 136,
   "id": "34b5d240",
   "metadata": {},
   "outputs": [],
   "source": [
    "x_data = data.comment.apply(lambda x: wordopt(str(x)))\n",
    "x_data = x_data.apply(lambda x: simple_preprocess(str(x)))"
   ]
  },
  {
   "cell_type": "code",
   "execution_count": 137,
   "id": "3c894e6e",
   "metadata": {},
   "outputs": [
    {
     "name": "stdout",
     "output_type": "stream",
     "text": [
      "3094\n"
     ]
    }
   ],
   "source": [
    "y_data = data['label']\n",
    "# Créer un DataFrame avec x_data et y_data\n",
    "df = pd.DataFrame({'x_data': x_data, 'y_data': y_data})\n",
    "\n",
    "# Ajouter une colonne indiquant si le vecteur est vide\n",
    "df['is_empty'] = df['x_data'].apply(lambda x: len(x) == 0)\n",
    "\n",
    "# Supprimer les lignes avec des vecteurs vides\n",
    "df = df[df['is_empty'] == False]\n",
    "\n",
    "# Récupérer les séries x_data et y_data après la suppression des vecteurs vides\n",
    "x_data = df['x_data']\n",
    "y_data = df['y_data']\n",
    "x_data #il y a un probleme de suppresssion de 'h'\n",
    "for item in x_data:\n",
    "    if len(item)==0:\n",
    "        print(item)\n",
    "print(len(y_data))"
   ]
  },
  {
   "cell_type": "markdown",
   "id": "2fd89636",
   "metadata": {},
   "source": [
    "Train the model\n",
    "---"
   ]
  },
  {
   "cell_type": "code",
   "execution_count": 138,
   "id": "abac5d5e",
   "metadata": {},
   "outputs": [
    {
     "data": {
      "text/plain": [
       "[('تلقيح', 0.7421254515647888),\n",
       " ('لقاحات', 0.5640878677368164),\n",
       " ('ملقحين', 0.5349369645118713),\n",
       " ('ملقح', 0.46464911103248596),\n",
       " ('قاح', 0.46200433373451233),\n",
       " ('فيروس', 0.4380027949810028),\n",
       " ('كورونا', 0.43175357580184937),\n",
       " ('جرعة', 0.42845091223716736),\n",
       " ('مناعة', 0.40454229712486267),\n",
       " ('جرعات', 0.4022302031517029)]"
      ]
     },
     "execution_count": 138,
     "metadata": {},
     "output_type": "execute_result"
    }
   ],
   "source": [
    "#Getting word2vec\n",
    "from gensim.models import Word2Vec\n",
    "model_w2v = Word2Vec.load(\"./Lastword2vecModel_2.model\") \n",
    "\n",
    "model_w2v.wv.most_similar(\"لقاح\")"
   ]
  },
  {
   "cell_type": "code",
   "execution_count": 139,
   "id": "9e134277",
   "metadata": {},
   "outputs": [],
   "source": [
    "def get_word2vec_embeddings(comment, model):\n",
    "    embeddings=[]\n",
    "    for word in comment:\n",
    "        if word in model.wv:\n",
    "            em=model.wv[word]\n",
    "#             print(word,em)\n",
    "        else:\n",
    "            em=np.zeros(300)\n",
    "#             print(word,em)\n",
    "        embeddings.append(em)\n",
    "    return np.sum(embeddings,axis=0)\n",
    "#     return embeddings    "
   ]
  },
  {
   "cell_type": "code",
   "execution_count": 140,
   "id": "396ccab1",
   "metadata": {},
   "outputs": [
    {
     "name": "stdout",
     "output_type": "stream",
     "text": [
      "0       [16.53477770090103, 13.487868137657642, -0.547...\n",
      "1       [-8.056338280439377, 13.608345728367567, 1.975...\n",
      "2       [-4.506016820669174, 43.45208401978016, -19.30...\n",
      "3       [-2.174154222011566, 13.793845146894455, 6.877...\n",
      "4       [-5.483494997024536, 1.20280222594738, -5.3951...\n",
      "                              ...                        \n",
      "3089    [-12.809269, 7.080321, -10.201522, -6.6497126,...\n",
      "3090    [0.30300254, 5.9114304, -7.486432, 10.06311, 1...\n",
      "3091    [-10.24409, -0.4557264, 2.9367707, 16.17726, 2...\n",
      "3092    [-6.0549726, 6.4599147, -0.9326904, -4.3398952...\n",
      "3093    [-2.363607, 12.785826, 0.9136274, 4.6734557, -...\n",
      "Name: x_data, Length: 3094, dtype: object\n"
     ]
    }
   ],
   "source": [
    "T_data= x_data.apply(lambda comment: get_word2vec_embeddings(comment, model_w2v))\n",
    "print(T_data)"
   ]
  },
  {
   "cell_type": "code",
   "execution_count": 141,
   "id": "ab240f37",
   "metadata": {},
   "outputs": [
    {
     "data": {
      "text/plain": [
       "300"
      ]
     },
     "execution_count": 141,
     "metadata": {},
     "output_type": "execute_result"
    }
   ],
   "source": [
    "len(T_data[0]) #taille du vecteur caracerestique"
   ]
  },
  {
   "cell_type": "code",
   "execution_count": 144,
   "id": "69e9be9a",
   "metadata": {},
   "outputs": [],
   "source": [
    "from sklearn.preprocessing import StandardScaler\n",
    "from sklearn.model_selection import train_test_split\n",
    "\n",
    "# # Convertir votre ensemble de données en un tableau NumPy\n",
    "# data_list = T_data.tolist()\n",
    "# data_array = np.array([np.vstack(embeddings) for embeddings in data_list])\n",
    "\n",
    "# # Aplatir le tableau pour l'ajuster à StandardScaler\n",
    "# flattened_data = data_array.reshape((data_array.shape[0], -1))\n",
    "\n",
    "# # Initialisez le StandardScaler\n",
    "# scaler = StandardScaler()\n",
    "\n",
    "# # Calculez la moyenne et l'écart-type de l'ensemble complet\n",
    "# scaler.fit(flattened_data)\n",
    "\n",
    "# # Normalisez l'ensemble des données\n",
    "# normalized_data = scaler.transform(flattened_data)\n",
    "\n",
    "# # Diviser les données normalisées en ensembles d'entraînement et de test\n",
    "# x_train, x_test, y_train, y_test = train_test_split(normalized_data, y_data, test_size=0.2)\n",
    "\n",
    "#standarisation seulement\n",
    "data_list = T_data.tolist()\n",
    "data_array = np.array([np.vstack(embeddings) for embeddings in data_list])\n",
    "\n",
    "# Aplatir le tableau pour l'ajuster à StandardScaler\n",
    "flattened_data = data_array.reshape((data_array.shape[0], -1))\n",
    "\n",
    "# Initialisez le StandardScaler\n",
    "scaler = StandardScaler()\n",
    "\n",
    "# Standardisez l'ensemble des données (remplacez la normalisation par la standardisation)\n",
    "standardized_data = scaler.fit_transform(flattened_data)\n",
    "\n",
    "# Diviser les données standardisées en ensembles d'entraînement et de test\n",
    "x_train, x_test, y_train, y_test = train_test_split(standardized_data, y_data, test_size=0.1)\n"
   ]
  },
  {
   "cell_type": "code",
   "execution_count": null,
   "id": "fae9bdfe",
   "metadata": {},
   "outputs": [],
   "source": []
  },
  {
   "cell_type": "code",
   "execution_count": null,
   "id": "55490e6e",
   "metadata": {},
   "outputs": [],
   "source": []
  },
  {
   "cell_type": "markdown",
   "id": "1bdeac39",
   "metadata": {},
   "source": [
    "using softmax"
   ]
  },
  {
   "cell_type": "code",
   "execution_count": 146,
   "id": "9636659d",
   "metadata": {},
   "outputs": [
    {
     "name": "stdout",
     "output_type": "stream",
     "text": [
      "Epoch 1/10\n",
      "348/348 [==============================] - 4s 8ms/step - loss: 0.8154 - accuracy: 0.5043 - val_loss: 0.6599 - val_accuracy: 0.6355\n",
      "Epoch 2/10\n",
      "348/348 [==============================] - 2s 7ms/step - loss: 0.7118 - accuracy: 0.5539 - val_loss: 0.6476 - val_accuracy: 0.6484\n",
      "Epoch 3/10\n",
      "348/348 [==============================] - 2s 7ms/step - loss: 0.6684 - accuracy: 0.5833 - val_loss: 0.6026 - val_accuracy: 0.6968\n",
      "Epoch 4/10\n",
      "348/348 [==============================] - 3s 7ms/step - loss: 0.6235 - accuracy: 0.6537 - val_loss: 0.5318 - val_accuracy: 0.7871\n",
      "Epoch 5/10\n",
      "348/348 [==============================] - 2s 7ms/step - loss: 0.5776 - accuracy: 0.7112 - val_loss: 0.4844 - val_accuracy: 0.7968\n",
      "Epoch 6/10\n",
      "348/348 [==============================] - 3s 7ms/step - loss: 0.5268 - accuracy: 0.7493 - val_loss: 0.4492 - val_accuracy: 0.8129\n",
      "Epoch 7/10\n",
      "348/348 [==============================] - 3s 7ms/step - loss: 0.4972 - accuracy: 0.7669 - val_loss: 0.4261 - val_accuracy: 0.8290\n",
      "Epoch 8/10\n",
      "348/348 [==============================] - 3s 8ms/step - loss: 0.4746 - accuracy: 0.7863 - val_loss: 0.4210 - val_accuracy: 0.8323\n",
      "Epoch 9/10\n",
      "348/348 [==============================] - 3s 8ms/step - loss: 0.4395 - accuracy: 0.7956 - val_loss: 0.4131 - val_accuracy: 0.8161\n",
      "Epoch 10/10\n",
      "348/348 [==============================] - 3s 8ms/step - loss: 0.4101 - accuracy: 0.8204 - val_loss: 0.4190 - val_accuracy: 0.8065\n",
      "10/10 [==============================] - 0s 6ms/step - loss: 0.4190 - accuracy: 0.8065\n",
      "Accuracy on test set: 0.8064516186714172\n"
     ]
    }
   ],
   "source": [
    "import tensorflow as tf\n",
    "from tensorflow.keras import layers, models\n",
    "\n",
    "# Nombre de classes \n",
    "num_classes = 2\n",
    "\n",
    "# Définir le modèle ANN avec softmax\n",
    "model = models.Sequential()\n",
    "model.add(layers.Dense(512, input_dim=300, activation='relu'))\n",
    "model.add(layers.Dropout(0.5))\n",
    "model.add(layers.Dense(128, activation='relu'))\n",
    "model.add(layers.Dropout(0.5))\n",
    "model.add(layers.Dense(256, activation='relu'))\n",
    "model.add(layers.Dropout(0.5))\n",
    "model.add(layers.Dense(64, activation='relu'))\n",
    "model.add(layers.Dropout(0.5))\n",
    "model.add(layers.Dense(num_classes, activation='softmax'))  # Utiliser softmax pour la classification multi-classes\n",
    "custom_optimizer = tf.keras.optimizers.Adam(learning_rate=0.00026)\n",
    "# Compiler le modèle avec la perte catégorielle croisée et l'optimiseur Adam\n",
    "model.compile(optimizer=custom_optimizer, loss='categorical_crossentropy', metrics=['accuracy'])\n",
    "\n",
    "# Convertir les labels en one-hot encoding\n",
    "y_train_one_hot = tf.keras.utils.to_categorical(y_train, num_classes)\n",
    "y_test_one_hot = tf.keras.utils.to_categorical(y_test, num_classes)\n",
    "\n",
    "# Entraîner le modèle\n",
    "model.fit(x_train, y_train_one_hot, epochs=10, batch_size=8, validation_data=(x_test, y_test_one_hot))\n",
    "\n",
    "# Évaluer la précision sur l'ensemble de test\n",
    "accuracy = model.evaluate(x_test, y_test_one_hot)[1]\n",
    "print(f'Accuracy on test set: {accuracy}')"
   ]
  },
  {
   "cell_type": "code",
   "execution_count": null,
   "id": "5ee6e559",
   "metadata": {},
   "outputs": [],
   "source": []
  },
  {
   "cell_type": "code",
   "execution_count": null,
   "id": "43eea2bf",
   "metadata": {},
   "outputs": [],
   "source": []
  },
  {
   "cell_type": "code",
   "execution_count": null,
   "id": "862c9bdb",
   "metadata": {},
   "outputs": [],
   "source": []
  },
  {
   "cell_type": "code",
   "execution_count": null,
   "id": "3ef356e5",
   "metadata": {},
   "outputs": [],
   "source": []
  },
  {
   "cell_type": "code",
   "execution_count": null,
   "id": "e3c2f9ea",
   "metadata": {},
   "outputs": [],
   "source": []
  }
 ],
 "metadata": {
  "kernelspec": {
   "display_name": "Python 3 (ipykernel)",
   "language": "python",
   "name": "python3"
  },
  "language_info": {
   "codemirror_mode": {
    "name": "ipython",
    "version": 3
   },
   "file_extension": ".py",
   "mimetype": "text/x-python",
   "name": "python",
   "nbconvert_exporter": "python",
   "pygments_lexer": "ipython3",
   "version": "3.9.13"
  }
 },
 "nbformat": 4,
 "nbformat_minor": 5
}
